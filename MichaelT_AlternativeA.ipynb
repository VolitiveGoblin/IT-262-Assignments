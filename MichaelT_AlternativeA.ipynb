{
  "nbformat": 4,
  "nbformat_minor": 0,
  "metadata": {
    "colab": {
      "name": "MichaelT-AlternativeA.ipynb",
      "provenance": [],
      "authorship_tag": "ABX9TyNS9V+L8cD9L/fw6WyEvCJh",
      "include_colab_link": true
    },
    "kernelspec": {
      "name": "python3",
      "display_name": "Python 3"
    },
    "language_info": {
      "name": "python"
    }
  },
  "cells": [
    {
      "cell_type": "markdown",
      "metadata": {
        "id": "view-in-github",
        "colab_type": "text"
      },
      "source": [
        "<a href=\"https://colab.research.google.com/github/VolitiveGoblin/IT-262-Assignments/blob/main/MichaelT_AlternativeA.ipynb\" target=\"_parent\"><img src=\"https://colab.research.google.com/assets/colab-badge.svg\" alt=\"Open In Colab\"/></a>"
      ]
    },
    {
      "cell_type": "code",
      "execution_count": 12,
      "metadata": {
        "colab": {
          "base_uri": "https://localhost:8080/"
        },
        "id": "AGTSV2LRpaZ_",
        "outputId": "5fd3db0d-2754-49db-a513-9374f1205cf6"
      },
      "outputs": [
        {
          "output_type": "stream",
          "name": "stdout",
          "text": [
            "Empty DataFrame\n",
            "Columns: [criteria, weight, ratingA, ratingB, scoreA, scoreB]\n",
            "Index: []\n"
          ]
        }
      ],
      "source": [
        "import pandas as pd\n",
        "import math\n",
        "\n",
        "AA=pd.DataFrame(columns=['criteria','weight','ratingA','ratingB','scoreA','scoreB'])\n",
        "print(AA)"
      ]
    },
    {
      "cell_type": "code",
      "source": [
        "AA['criteria']=['risk','roi','customer satisfaction','strategic allignment','feasibility']\n",
        "print(AA)"
      ],
      "metadata": {
        "colab": {
          "base_uri": "https://localhost:8080/"
        },
        "id": "Af8VF_O5tPAi",
        "outputId": "81f697ed-ded4-4ee3-f214-d7955eb094d6"
      },
      "execution_count": 22,
      "outputs": [
        {
          "output_type": "stream",
          "name": "stdout",
          "text": [
            "                criteria  weight  ratingA  ratingB scoreA scoreB\n",
            "0                   risk    0.10        4        3    0.4    0.3\n",
            "1                    roi    0.15        1        4   0.15    0.6\n",
            "2  customer satisfaction    0.30        2        2    0.6    0.6\n",
            "3   strategic allignment    0.15        1        3   0.15   0.45\n",
            "4            feasibility    0.30        5        2    1.5    0.6\n"
          ]
        }
      ]
    },
    {
      "cell_type": "code",
      "source": [
        "AA['weight']=[0.1,0.15,0.3,.15,.3]\n",
        "print(AA)"
      ],
      "metadata": {
        "colab": {
          "base_uri": "https://localhost:8080/"
        },
        "id": "x12pfeYrxpVz",
        "outputId": "b18eb1f1-5ce4-4425-9b7d-72cb94578533"
      },
      "execution_count": 23,
      "outputs": [
        {
          "output_type": "stream",
          "name": "stdout",
          "text": [
            "                criteria  weight  ratingA  ratingB scoreA scoreB\n",
            "0                   risk    0.10        4        3    0.4    0.3\n",
            "1                    roi    0.15        1        4   0.15    0.6\n",
            "2  customer satisfaction    0.30        2        2    0.6    0.6\n",
            "3   strategic allignment    0.15        1        3   0.15   0.45\n",
            "4            feasibility    0.30        5        2    1.5    0.6\n"
          ]
        }
      ]
    },
    {
      "cell_type": "code",
      "source": [
        "AA['ratingA']=[4,1,2,1,5]\n",
        "AA['ratingB']=[3,4,2,3,2]\n",
        "\n",
        "for index, row in AA.iterrows():\n",
        "  AA['scoreA'][index]=row['ratingA']*row['weight']\n",
        "  AA['scoreB'][index]=row['ratingB']*row['weight']\n",
        "\n",
        "print(AA)"
      ],
      "metadata": {
        "colab": {
          "base_uri": "https://localhost:8080/"
        },
        "id": "KhlezzQJu_UN",
        "outputId": "f5a02664-6742-4e74-9095-7c171e0eec20"
      },
      "execution_count": 24,
      "outputs": [
        {
          "output_type": "stream",
          "name": "stdout",
          "text": [
            "                criteria  weight  ratingA  ratingB scoreA scoreB\n",
            "0                   risk    0.10        4        3    0.4    0.3\n",
            "1                    roi    0.15        1        4   0.15    0.6\n",
            "2  customer satisfaction    0.30        2        2    0.6    0.6\n",
            "3   strategic allignment    0.15        1        3   0.15   0.45\n",
            "4            feasibility    0.30        5        2    1.5    0.6\n"
          ]
        },
        {
          "output_type": "stream",
          "name": "stderr",
          "text": [
            "/usr/local/lib/python3.7/dist-packages/ipykernel_launcher.py:5: SettingWithCopyWarning: \n",
            "A value is trying to be set on a copy of a slice from a DataFrame\n",
            "\n",
            "See the caveats in the documentation: https://pandas.pydata.org/pandas-docs/stable/user_guide/indexing.html#returning-a-view-versus-a-copy\n",
            "  \"\"\"\n",
            "/usr/local/lib/python3.7/dist-packages/ipykernel_launcher.py:6: SettingWithCopyWarning: \n",
            "A value is trying to be set on a copy of a slice from a DataFrame\n",
            "\n",
            "See the caveats in the documentation: https://pandas.pydata.org/pandas-docs/stable/user_guide/indexing.html#returning-a-view-versus-a-copy\n",
            "  \n"
          ]
        }
      ]
    },
    {
      "cell_type": "code",
      "source": [
        "totalScoreA=0\n",
        "totalScoreB=0\n",
        "for index, row in AA.iterrows():\n",
        "  totalScoreA+=row['scoreA']\n",
        "  totalScoreB+=row['scoreB']\n",
        "  \n",
        "print('the total score for A is {:.2f} and for B is {:.2f}' .format(totalScoreA, totalScoreB))"
      ],
      "metadata": {
        "colab": {
          "base_uri": "https://localhost:8080/"
        },
        "id": "VYEKU2GmwG-J",
        "outputId": "aa29b6f7-23bf-4a79-89be-85a27a04fcb8"
      },
      "execution_count": 27,
      "outputs": [
        {
          "output_type": "stream",
          "name": "stdout",
          "text": [
            "the total score for A is 2.80 and for B is 2.55\n"
          ]
        }
      ]
    }
  ]
}