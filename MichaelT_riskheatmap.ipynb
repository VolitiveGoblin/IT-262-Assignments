{
  "nbformat": 4,
  "nbformat_minor": 0,
  "metadata": {
    "colab": {
      "name": "MichaelT_riskheatmap.ipynb",
      "provenance": [],
      "authorship_tag": "ABX9TyNBUKi1wAjbKwfzGihUXUOt",
      "include_colab_link": true
    },
    "kernelspec": {
      "name": "python3",
      "display_name": "Python 3"
    },
    "language_info": {
      "name": "python"
    }
  },
  "cells": [
    {
      "cell_type": "markdown",
      "metadata": {
        "id": "view-in-github",
        "colab_type": "text"
      },
      "source": [
        "<a href=\"https://colab.research.google.com/github/VolitiveGoblin/IT-262-Assignments/blob/main/MichaelT_riskheatmap.ipynb\" target=\"_parent\"><img src=\"https://colab.research.google.com/assets/colab-badge.svg\" alt=\"Open In Colab\"/></a>"
      ]
    },
    {
      "cell_type": "code",
      "execution_count": 2,
      "metadata": {
        "id": "__TYCLFMz3Az"
      },
      "outputs": [],
      "source": [
        "import seaborn as sns\n",
        "import pandas as pd\n",
        "import numpy as np\n",
        "\n",
        "df = pd.DataFrame(columns=['risk', 'likelihood', 'impact', 'score'])"
      ]
    },
    {
      "cell_type": "code",
      "source": [
        "df['risk']=['users', 'team', 'budget', 'security', 'scope']"
      ],
      "metadata": {
        "id": "v7_6yssm0Z2v"
      },
      "execution_count": 3,
      "outputs": []
    },
    {
      "cell_type": "code",
      "source": [
        "df['likelihood']=[0.2,0.3,0.1,0.5,0.6]"
      ],
      "metadata": {
        "id": "MMmhPuXd0mOl"
      },
      "execution_count": 5,
      "outputs": []
    },
    {
      "cell_type": "code",
      "source": [
        "df['impact']=[1,2,7,10,12]\n",
        "df['score']=df['impact']*df['likelihood']"
      ],
      "metadata": {
        "id": "u1o9wpxy0wct"
      },
      "execution_count": 6,
      "outputs": []
    },
    {
      "cell_type": "code",
      "source": [
        "df['score']=df['impact']*df['likelihood']"
      ],
      "metadata": {
        "id": "NTOWWvUq1DqW"
      },
      "execution_count": 7,
      "outputs": []
    },
    {
      "cell_type": "code",
      "source": [
        "scoresPivot=df.pivot('impact', 'likelihood', 'score')\n",
        "print(scoresPivot)\n",
        "\n",
        "labelsPivot=df.pivot('impact', 'likelihood', 'risk')\n",
        "print(labelsPivot)\n",
        "\n",
        "pl=sns.heatmap(scoresPivot, cmap='YlGn',annot=labelsPivot, fmt='')"
      ],
      "metadata": {
        "colab": {
          "base_uri": "https://localhost:8080/",
          "height": 522
        },
        "id": "0qbrPgPl1QNN",
        "outputId": "da1e5a27-58c6-4087-d26b-e2b67a2dcad1"
      },
      "execution_count": 8,
      "outputs": [
        {
          "output_type": "stream",
          "name": "stdout",
          "text": [
            "likelihood  0.1  0.2  0.3  0.5  0.6\n",
            "impact                             \n",
            "1           NaN  0.2  NaN  NaN  NaN\n",
            "2           NaN  NaN  0.6  NaN  NaN\n",
            "7           0.7  NaN  NaN  NaN  NaN\n",
            "10          NaN  NaN  NaN  5.0  NaN\n",
            "12          NaN  NaN  NaN  NaN  7.2\n",
            "likelihood     0.1    0.2   0.3       0.5    0.6\n",
            "impact                                          \n",
            "1              NaN  users   NaN       NaN    NaN\n",
            "2              NaN    NaN  team       NaN    NaN\n",
            "7           budget    NaN   NaN       NaN    NaN\n",
            "10             NaN    NaN   NaN  security    NaN\n",
            "12             NaN    NaN   NaN       NaN  scope\n"
          ]
        },
        {
          "output_type": "display_data",
          "data": {
            "image/png": "[encoded data removed]",
            "text/plain": [
              "<Figure size 432x288 with 2 Axes>"
            ]
          },
          "metadata": {
            "needs_background": "light"
          }
        }
      ]
    }
  ]
}