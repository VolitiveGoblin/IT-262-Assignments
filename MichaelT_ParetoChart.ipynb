{
  "nbformat": 4,
  "nbformat_minor": 0,
  "metadata": {
    "colab": {
      "name": "Untitled0.ipynb",
      "provenance": [],
      "mount_file_id": "1CgyqrtkJx_Yj7OzE7GZfhgSMi40w9aX9",
      "authorship_tag": "ABX9TyPjrpVYf38rUG6L2ZhvPAwP",
      "include_colab_link": true
    },
    "kernelspec": {
      "name": "python3",
      "display_name": "Python 3"
    },
    "language_info": {
      "name": "python"
    }
  },
  "cells": [
    {
      "cell_type": "markdown",
      "metadata": {
        "id": "view-in-github",
        "colab_type": "text"
      },
      "source": [
        "<a href=\"https://colab.research.google.com/github/VolitiveGoblin/IT-262-Assignments/blob/main/MichaelT_ParetoChart.ipynb\" target=\"_parent\"><img src=\"https://colab.research.google.com/assets/colab-badge.svg\" alt=\"Open In Colab\"/></a>"
      ]
    },
    {
      "cell_type": "code",
      "execution_count": 4,
      "metadata": {
        "colab": {
          "base_uri": "https://localhost:8080/"
        },
        "id": "fk5eqys6tqoK",
        "outputId": "c0a3cc0c-035e-4962-8ec2-0b33db12f647"
      },
      "outputs": [
        {
          "output_type": "stream",
          "name": "stdout",
          "text": [
            "       reason                         description  frequency\n",
            "0         ERP                    myIllinoinsState          7\n",
            "1         VPN                connection from home         10\n",
            "2       email                   unable to message         18\n",
            "3         PCs  office computers for staff/faculty         12\n",
            "4     printer                     unable to print         10\n",
            "5    internet                   connection issues         22\n",
            "6   ReggieNet            issues accesing features          8\n",
            "7      mobile       mobile devices not connecting         14\n",
            "8    password               password reset issues         11\n",
            "9        VoIP  phone / voice message difficulties         15\n",
            "10   hardware             general hardware issues         25\n",
            "11  Office365             question accessing apps         13\n"
          ]
        }
      ],
      "source": [
        "import pandas as pd\n",
        "import matplotlib.pyplot as plt\n",
        "\n",
        "df=pd.read_csv(\"/content/drive/MyDrive/IT 262/HelpDesk.csv\")\n",
        "print(df)"
      ]
    },
    {
      "cell_type": "code",
      "source": [
        "df.index = df['reason']\n",
        "\n",
        "df = df.sort_values(by='frequency',ascending=False)"
      ],
      "metadata": {
        "id": "iSk4P9_-vF7e"
      },
      "execution_count": 5,
      "outputs": []
    },
    {
      "cell_type": "code",
      "source": [
        "df[\"cumulativePercentage\"] =df['frequency'].cumsum()/df['frequency'].sum()*100\n",
        "\n",
        "df['cumulativePercentage']=df['cumulativePercentage'].apply(lambda x: round(x,2))\n",
        "print(df)"
      ],
      "metadata": {
        "colab": {
          "base_uri": "https://localhost:8080/"
        },
        "id": "mlVygu5rvYCG",
        "outputId": "9a4121ec-aa0d-42d0-a331-5a87ccf52f5e"
      },
      "execution_count": 10,
      "outputs": [
        {
          "output_type": "stream",
          "name": "stdout",
          "text": [
            "              reason  ... cumulativePercentage\n",
            "reason                ...                     \n",
            "hardware    hardware  ...                15.15\n",
            "internet    internet  ...                28.48\n",
            "email          email  ...                39.39\n",
            "VoIP            VoIP  ...                48.48\n",
            "mobile        mobile  ...                56.97\n",
            "Office365  Office365  ...                64.85\n",
            "PCs              PCs  ...                72.12\n",
            "password    password  ...                78.79\n",
            "VPN              VPN  ...                84.85\n",
            "printer      printer  ...                90.91\n",
            "ReggieNet  ReggieNet  ...                95.76\n",
            "ERP              ERP  ...               100.00\n",
            "\n",
            "[12 rows x 5 columns]\n"
          ]
        }
      ]
    },
    {
      "cell_type": "code",
      "source": [
        "\n",
        "fig, ax = plt.subplots()\n",
        "ax.bar(df.index, df['frequency'], color='c0')\n",
        "\n",
        "ax.set_xticklabels( df['reason'], rotation=45)\n",
        "\n",
        "ax2 = ax.twinx()\n",
        "\n",
        "ax2.plot(df.index, df['cumulativePercentage'], color='C1', marker='D', ms=7)\n",
        "ax2.yaxis.set_major_formatter(PercentFormatter())\n",
        "\n",
        "ax.tick_params(axis='y', colors='C0')\n",
        "ax2.tick_params(axis='y', colors='C1')\n",
        "plt.xticks(rotation=45, ha='right')\n",
        "plt.show()\n"
      ],
      "metadata": {
        "colab": {
          "base_uri": "https://localhost:8080/",
          "height": 354
        },
        "id": "4Bk5f0dxwO-m",
        "outputId": "1e98188e-e1c0-4404-f83f-c813ab75efdb"
      },
      "execution_count": 11,
      "outputs": [
        {
          "output_type": "stream",
          "name": "stderr",
          "text": [
            "/usr/local/lib/python3.7/dist-packages/ipykernel_launcher.py:3: MatplotlibDeprecationWarning: Using a string of single character colors as a color sequence is deprecated. Use an explicit list instead.\n",
            "  This is separate from the ipykernel package so we can avoid doing imports until\n"
          ]
        },
        {
          "output_type": "display_data",
          "data": {
            "image/png": "[encoded data removed]",
            "text/plain": [
              "<Figure size 432x288 with 2 Axes>"
            ]
          },
          "metadata": {}
        }
      ]
    }
  ]
}